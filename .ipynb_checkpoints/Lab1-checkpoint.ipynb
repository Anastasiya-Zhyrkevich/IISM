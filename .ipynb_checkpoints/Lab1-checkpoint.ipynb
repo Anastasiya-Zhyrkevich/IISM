{
 "cells": [
  {
   "cell_type": "code",
   "execution_count": 1,
   "metadata": {
    "collapsed": false
   },
   "outputs": [
    {
     "name": "stdout",
     "output_type": "stream",
     "text": [
      "First 10 random elements\n",
      "0.0246251565404\n",
      "0.22170037264\n",
      "0.507814623881\n",
      "0.931695869658\n",
      "0.385651480872\n",
      "0.714462111238\n",
      "0.27531202184\n",
      "0.816424010787\n",
      "0.651716758031\n",
      "0.325751858298\n"
     ]
    }
   ],
   "source": [
    "class GeneratorD1:\n",
    "    def __init__(self, m):\n",
    "        #self.beta = 2 * m + 3\n",
    "        self.beta = 5**(2 * m + 1)\n",
    "        self.M = 2**31\n",
    "        self.a = self.beta\n",
    "    \n",
    "    def rand(self):\n",
    "        self.a = (self.beta * self.a) % self.M\n",
    "        rand = 1.0 * self.a / self.M\n",
    "        return rand\n",
    "    \n",
    "g = GeneratorD1(5)\n",
    "k = 10\n",
    "print \"First \" + str(k) + \" random elements\" \n",
    "for _ in xrange(10):\n",
    "    print g.rand()  "
   ]
  },
  {
   "cell_type": "code",
   "execution_count": 2,
   "metadata": {
    "collapsed": false
   },
   "outputs": [
    {
     "name": "stdout",
     "output_type": "stream",
     "text": [
      "First 10 random elements\n",
      "0.714462111238\n",
      "0.507814623881\n",
      "0.385651480872\n",
      "0.651716758031\n",
      "0.455944113899\n",
      "0.816424010787\n",
      "0.22170037264\n",
      "0.27531202184\n",
      "0.186475700233\n",
      "0.943915993441\n"
     ]
    }
   ],
   "source": [
    "import random\n",
    "\n",
    "class GeneratorMaklaren:\n",
    "    def __init__(self, k):\n",
    "        self.k = k\n",
    "        self.gen_b = GeneratorD1(5)\n",
    "        self.v = [self.gen_b.rand() for _ in xrange(self.k)]\n",
    "    \n",
    "    def rand(self):\n",
    "        ind = int(random.random() * self.k)\n",
    "        random_number = self.v[ind]\n",
    "        self.v[ind] = self.gen_b.rand()\n",
    "        return random_number\n",
    "        \n",
    "g_mak = GeneratorMaklaren(7)\n",
    "k = 10\n",
    "print \"First \" + str(k) + \" random elements\" \n",
    "for _ in xrange(10):\n",
    "    print g_mak.rand()     \n",
    "    "
   ]
  },
  {
   "cell_type": "code",
   "execution_count": 3,
   "metadata": {
    "collapsed": false
   },
   "outputs": [
    {
     "name": "stdout",
     "output_type": "stream",
     "text": [
      "Nu [10064, 9850, 10135, 9950, 10046, 9953, 10134, 9872, 10002, 9994]\n",
      "Pirson criteria passed: 8.6026 < 16.919\n",
      "Nu [10064, 9849, 10136, 9950, 10045, 9954, 10135, 9872, 10001, 9994]\n",
      "Pirson criteria passed: 8.668 < 16.919\n"
     ]
    },
    {
     "data": {
      "text/plain": [
       "8.668"
      ]
     },
     "execution_count": 3,
     "metadata": {},
     "output_type": "execute_result"
    }
   ],
   "source": [
    "def Pirson(gen, p, boarders, n, delta):\n",
    "    k = len(p)\n",
    "    nu = [0] * k\n",
    "    for _ in xrange(n):\n",
    "        rand_num = gen.rand()\n",
    "        prev_b = 0\n",
    "        for ind, b in enumerate(boarders):\n",
    "            if prev_b <= rand_num and rand_num < b:\n",
    "                nu[k - 1 - ind] += 1\n",
    "                prev_b = b\n",
    "                break\n",
    "    print \"Nu \" + str(nu)\n",
    "    xi = 0\n",
    "    for nu_, p_ in zip(nu, p):\n",
    "        xi += (nu_ - n * p_)**2 / (n * p_)\n",
    "    if xi < delta:\n",
    "        print \"Pirson criteria passed: \" + str(xi) + \" < \" + str(delta)\n",
    "    else:\n",
    "        print \"Pirson criteria failed: \" + str(xi) + \" > \" + str(delta)\n",
    "    return xi\n",
    "\n",
    "k = 10\n",
    "Pirson(GeneratorMaklaren(7), [1.0 / k]* k, [1.0 * (i+1) / k for i in xrange(k)], 100000, 16.919) \n",
    "Pirson(GeneratorD1(5), [1.0 / k]* k, [1.0 * (i+1) / k for i in xrange(k)], 100000, 16.919) "
   ]
  },
  {
   "cell_type": "code",
   "execution_count": 12,
   "metadata": {
    "collapsed": false
   },
   "outputs": [
    {
     "name": "stdout",
     "output_type": "stream",
     "text": [
      "Kolmogorov criteria passed: 0.895433038391 < 1.36\n",
      "Kolmogorov criteria passed: 0.895433038391 < 1.36\n"
     ]
    },
    {
     "data": {
      "text/plain": [
       "0.8954330383914105"
      ]
     },
     "execution_count": 12,
     "metadata": {},
     "output_type": "execute_result"
    }
   ],
   "source": [
    "import math\n",
    "def F(x):\n",
    "    return x\n",
    "\n",
    "def Kolmogorov(gen, F, n, delta):\n",
    "    sup = 0\n",
    "    generated = [gen.rand() for _ in xrange(n)]\n",
    "    generated = sorted(generated)\n",
    "    for i, x in enumerate(generated):\n",
    "        sup = max(sup, abs(i* 1./n - F(x)))\n",
    "    ndn = 1.0 * math.sqrt(n)* sup\n",
    "    if ndn < delta:\n",
    "        print \"Kolmogorov criteria passed: \" + str(ndn) + \" < \" + str(delta)\n",
    "    else:\n",
    "        print \"Kolmogorov criteria failed: \" + str(ndn) + \" > \" + str(delta)\n",
    "    return ndn\n",
    "\n",
    "Kolmogorov(GeneratorMaklaren(7), F,  1000, 1.36) \n",
    "Kolmogorov(GeneratorD1(5), F, 1000, 1.36) "
   ]
  },
  {
   "cell_type": "code",
   "execution_count": 16,
   "metadata": {
    "collapsed": false
   },
   "outputs": [
    {
     "name": "stdout",
     "output_type": "stream",
     "text": [
      "Nu [40, 27, 33]\n",
      "Pirson criteria passed: 2.54 < 16.919\n",
      "1\n",
      "1\n",
      "2\n",
      "3\n",
      "2\n",
      "3\n",
      "1\n",
      "3\n",
      "2\n",
      "1\n"
     ]
    }
   ],
   "source": [
    "class DiscreteUniform:\n",
    "    \n",
    "    def __init__(self, gen, a, b): #[a, b)\n",
    "        self.gen = gen\n",
    "        self.a = a\n",
    "        self.b = b\n",
    "        \n",
    "    def rand(self):\n",
    "        rand_num = self.gen.rand()\n",
    "        return int(rand_num * (self.b - self.a)) + self.a\n",
    "\n",
    "u = DiscreteUniform(GeneratorD1(5), 1, 4)\n",
    "k = 3 # 4 - 1\n",
    "Pirson(GeneratorMaklaren(7), [1.0 / k]* k, [1.0 * (i+1) / k for i in xrange(k)], 100, 16.919)  \n",
    "\n",
    "for _ in xrange(10):\n",
    "    print u.rand()"
   ]
  },
  {
   "cell_type": "code",
   "execution_count": 13,
   "metadata": {
    "collapsed": false
   },
   "outputs": [
    {
     "name": "stdout",
     "output_type": "stream",
     "text": [
      "Kolmogorov criteria passed: 0.951279637404 < 1.36\n",
      "1.02758977329\n",
      "1.89910080982\n",
      "1.72967390856\n",
      "3.81629603682\n",
      "2.92289349204\n",
      "2.79098110599\n",
      "1.31613443187\n",
      "1.55591143994\n",
      "3.27815469122\n",
      "3.03201194061\n"
     ]
    }
   ],
   "source": [
    "class Uniform:\n",
    "    \n",
    "    def __init__(self, gen, a, b):\n",
    "        self.gen = gen\n",
    "        self.a = a\n",
    "        self.b = b\n",
    "    \n",
    "    def F(self, x):\n",
    "        if x < self.a:\n",
    "            return 0\n",
    "        if x > self.b:\n",
    "            return 1\n",
    "        return 1.0 *(x - self.a)/ (self.b - self.a)\n",
    "        \n",
    "    def rand(self):\n",
    "        rand_num = self.gen.rand()\n",
    "        return rand_num * (self.b - self.a) + self.a\n",
    "    \n",
    "    \n",
    "u = Uniform(GeneratorD1(5), 1, 4)\n",
    "Kolmogorov(u, u.F, 100, 1.36) \n",
    "\n",
    "for _ in xrange(10):\n",
    "    print u.rand()"
   ]
  }
 ],
 "metadata": {
  "kernelspec": {
   "display_name": "Python 2",
   "language": "python",
   "name": "python2"
  },
  "language_info": {
   "codemirror_mode": {
    "name": "ipython",
    "version": 2
   },
   "file_extension": ".py",
   "mimetype": "text/x-python",
   "name": "python",
   "nbconvert_exporter": "python",
   "pygments_lexer": "ipython2",
   "version": "2.7.10"
  }
 },
 "nbformat": 4,
 "nbformat_minor": 0
}
