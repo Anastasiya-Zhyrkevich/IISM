{
 "cells": [
  {
   "cell_type": "markdown",
   "metadata": {},
   "source": [
    "int (x * x * sin (x) * sin (x)) from 0 to pi\n",
    "\n",
    "I will take p(x) = 1 - uniform distribution"
   ]
  },
  {
   "cell_type": "code",
   "execution_count": 1,
   "metadata": {
    "collapsed": false
   },
   "outputs": [
    {
     "name": "stdout",
     "output_type": "stream",
     "text": [
      "4.35814517168\n",
      "4.38231461665\n"
     ]
    }
   ],
   "source": [
    "import random\n",
    "import math\n",
    "\n",
    "class Uniform:\n",
    "    def __init__(self, gen, a, b):\n",
    "        self.gen = gen\n",
    "        self.a = a\n",
    "        self.b = b\n",
    "        \n",
    "    def rand(self):\n",
    "        rand_num = self.gen.random()\n",
    "        return rand_num * 1.0 *(self.b - self.a) + self.a \n",
    "    \n",
    "u = Uniform(random, 0, math.pi)\n",
    "\n",
    "def count_int(f, a, b, n = 10000):\n",
    "    u = Uniform(random, a, b)\n",
    "    integral = 0.0\n",
    "    for _ in xrange(n):\n",
    "        integral += f(u.rand())\n",
    "        \n",
    "    integral /= n\n",
    "    integral *= 1. * (b - a)\n",
    "    return integral\n",
    "    \n",
    "print count_int(lambda x: x*x*math.sin(x)*math.sin(x), 0, math.pi, n = 10000)\n",
    "real_result = 1.0 / 12 * math.pi * (2 * math.pi ** 2 - 3)\n",
    "print real_result\n"
   ]
  },
  {
   "cell_type": "markdown",
   "metadata": {},
   "source": [
    "int int e^((-x**2 - y**2)/ 2) sqrt(1 + sin ^ 2(x+y))"
   ]
  },
  {
   "cell_type": "code",
   "execution_count": 6,
   "metadata": {
    "collapsed": false
   },
   "outputs": [
    {
     "name": "stdout",
     "output_type": "stream",
     "text": [
      "3.04347036269\n"
     ]
    }
   ],
   "source": [
    "from math import sqrt, log, sin, cos, pi\n",
    "\n",
    "class Norm:\n",
    "    def __init__(self, gen):\n",
    "        self.gen = gen\n",
    "        \n",
    "    def rand(self):\n",
    "        r1 = self.gen.random()\n",
    "        r2 = self.gen.random()\n",
    "        return sqrt(-2 * log(r1)) * cos (2 * pi * r2), sqrt(-2 * log(r1)) * sin (2 * pi * r2)\n",
    "    \n",
    "def count_integral(f, n = 10000):\n",
    "    u = Norm(random)\n",
    "    integral = 0.0\n",
    "    for _ in xrange(n):\n",
    "        r1, r2 = u.rand()\n",
    "        integral += f(r1, r2)\n",
    "        \n",
    "    integral /= n\n",
    "    integral *= 1. * sqrt(2 * pi)\n",
    "    return integral\n",
    "\n",
    "print count_integral(lambda x, y: sqrt(1 + sin(x+y)**2))\n"
   ]
  },
  {
   "cell_type": "code",
   "execution_count": 14,
   "metadata": {
    "collapsed": false
   },
   "outputs": [
    {
     "name": "stdout",
     "output_type": "stream",
     "text": [
      "1.51430774395 3.97742148948\n",
      "1.63934 3.93443\n"
     ]
    }
   ],
   "source": [
    "import random \n",
    "\n",
    "def equations(A, f):\n",
    "    \n",
    "    def count(A, f, h, m = 1000, N = 1000):\n",
    "        ans = 0.0\n",
    "        for _ in xrange(m):\n",
    "        \n",
    "            i = [0 if random.random() < 0.5 else 1 for _ in xrange(N + 1)]\n",
    "            q = [0]* (N+1)\n",
    "            q[0] = 1.* h[i[0]] / 0.5\n",
    "            for k in xrange(N):\n",
    "                q[k+1] = q[k] * A[i[k]][i[k+1]] / 0.5\n",
    "            ksi = 0\n",
    "            for k in xrange(N+1):\n",
    "                ksi += q[k] * f[i[k]]\n",
    "            ans += ksi\n",
    "        return ans / m\n",
    "    \n",
    "    x = count(A, f, [1, 0])\n",
    "    y = count(A, f, [0, 1])\n",
    "    return x, y\n",
    "\n",
    "x, y = equations([[-0.7, 0.2], [0.2, -0.1]], [2, 4])\n",
    "real_x = 1.63934\n",
    "real_y = 3.93443\n",
    "print x, y\n",
    "print real_x, real_y  "
   ]
  }
 ],
 "metadata": {
  "kernelspec": {
   "display_name": "Python 2",
   "language": "python",
   "name": "python2"
  },
  "language_info": {
   "codemirror_mode": {
    "name": "ipython",
    "version": 2
   },
   "file_extension": ".py",
   "mimetype": "text/x-python",
   "name": "python",
   "nbconvert_exporter": "python",
   "pygments_lexer": "ipython2",
   "version": "2.7.10"
  }
 },
 "nbformat": 4,
 "nbformat_minor": 0
}
